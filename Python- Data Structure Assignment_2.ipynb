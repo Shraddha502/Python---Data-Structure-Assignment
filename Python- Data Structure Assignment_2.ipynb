{
  "nbformat": 4,
  "nbformat_minor": 0,
  "metadata": {
    "colab": {
      "provenance": []
    },
    "kernelspec": {
      "name": "python3",
      "display_name": "Python 3"
    },
    "language_info": {
      "name": "python"
    }
  },
  "cells": [
    {
      "cell_type": "markdown",
      "source": [
        "Python - Data Structure Assignment"
      ],
      "metadata": {
        "id": "mxLGgAcmxEYA"
      }
    },
    {
      "cell_type": "markdown",
      "source": [
        "Ques 1. What are data structures, and why are they important\n",
        "\n",
        "        - Data structure is a container or we can say is a way of organising\n",
        "        and storing data so that can be accessed and manupulated effeciently.\n",
        "        They are essential because they help manage data in an optimized way,\n",
        "        making algorithms run faster and use memory efficiently.\n",
        "\n",
        "        Examples of data structures:\n",
        "        Lists – Dynamic arrays that allow fast insertions and deletions.\n",
        "        Tuples – Immutable sequences that store multiple values.\n",
        "        Dictionaries – Key-value pairs that allow fast lookups.\n",
        "        Sets – Collections of unique elements that prevent duplicates.\n",
        "        Stacks & Queues – Used in algorithms like recursion and scheduling.\n",
        "        Trees & Graphs – Used in complex structures like file systems and\n",
        "        social networks.\n",
        "        \n",
        "        Importance of data structures:\n",
        "        They increase efficiency in operations like sorting and searching.\n",
        "        They reduce memory usage by organizing data optimally.\n",
        "        They enable complex problem-solving, like AI and databases.\n",
        "\n",
        "\n",
        "Ques 2. Explain the difference between mutable and immutable data types with  examples\n",
        "\n",
        "       -A mutable object can be changed after it is created, whereas an\n",
        "       immutable object cannot be changed once created.\n",
        "\n",
        "       Here are some examples:\n",
        "\n",
        "       Mutable data types:\n",
        "\n",
        "      Lists: You can add, remove, or change elements in a list after it's created.\n",
        "      my_list = [1, 2, 3]\n",
        "      my_list.append(4)\n",
        "      print(my_list)  # Output: [1, 2, 3, 4]\n",
        "      \n",
        "      Dictionaries: You can add, remove, or change key-value pairs in a dictionary.\n",
        "      my_dict = {\"a\": 1, \"b\": 2}\n",
        "      my_dict[\"c\"] = 3\n",
        "      print(my_dict)  # Output: {'a': 1, 'b': 2, 'c': 3}\n",
        "      \n",
        "      Sets: You can add or remove elements from a set.\n",
        "      my_set = {1, 2, 3}\n",
        "      my_set.add(4)\n",
        "      print(my_set)  # Output: {1, 2, 3, 4}\n",
        "      Immutable data types:\n",
        "\n",
        "      Strings: You cannot change individual characters in a string. If you want\n",
        "      to modify a string, you need to create a new one.\n",
        "      my_string = \"hello\"\n",
        "      # my_string[0] = \"H\" # This would cause an error\n",
        "      new_string = my_string.replace(\"h\", \"H\")\n",
        "      print(new_string)  # Output: Hello\n",
        "      \n",
        "      Tuples: You cannot change, add, or remove elements from a tuple after\n",
        "      it's created.\n",
        "      my_tuple = (1, 2, 3)\n",
        "      # my_tuple[0] = 4 # This would cause an error\n",
        "      Numbers (int, float, complex): Numbers are immutable.\n",
        "      my_number = 10\n",
        "      # my_number = 11 creates a new integer object, it doesn't modify the\n",
        "      original one\n",
        "      \n",
        "      The key difference lies in how memory is managed. When you modify a\n",
        "      mutable object, the change happens in the same memory location. When you\n",
        "      \"modify\" an immutable object, you are actually creating a new object in a\n",
        "      different memory location.\n",
        "\n",
        "\n",
        "\n",
        "      \n",
        "\n",
        "Ques 3. What are the main differences between lists and tuples in Python\n",
        "\n",
        "       - List\n",
        "\n",
        "         Mutable (can be changed)\n",
        "         Slower (because of mutability)\n",
        "         Takes more memory\n",
        "         When frequent modifications are needed\n",
        "\n",
        "        - Tuple\n",
        "\n",
        "          Immutable (can be changed)\n",
        "         Faster (because of mutability)\n",
        "         Takes less memory\n",
        "         When data should not change\n",
        "\n",
        "\n",
        "         \n",
        "\n",
        "\n",
        "Ques 4. Describe how dictionaries store data\n",
        "\n",
        "       - Dictionaries in Python store data as key-value pairs using a hash\n",
        "       table internally.\n",
        "\n",
        "       Each key is hashed to generate a unique index, allowing for fast access.\n",
        "       Unlike lists, dictionaries do not store elements in order.\n",
        "\n",
        "Ques 5.Why might you use a set instead of a list in Python\n",
        "\n",
        "      - You need to store a collection of unique items.\n",
        "        You frequently need to check for the presence of an item in the collection.\n",
        "        You need to perform mathematical set operations.\n",
        "        The order of the elements does not matter.\n",
        "\n",
        "Ques 6. What is a string in Python, and how is it different from a list\n",
        "       \n",
        "        - A string in Python is a sequence of characters.\n",
        "        It is used to represent text.\n",
        "        Strings are immutable, meaning that once a string is created, its\n",
        "        contents cannot be changed.\n",
        "\n",
        "        -A list in Python, on the other hand, is a mutable, ordered sequence  \n",
        "         of  elements. These elements can be of any data type (including other\n",
        "         lists, strings, numbers, etc.\n",
        "\n",
        "Ques 7. How do tuples ensure data integrity in Python\n",
        "\n",
        "        - Tuples are immutable, meaning once created, they cannot be changed.\n",
        "        This prevents accidental modifications, making them ideal for storing\n",
        "        constant values or database records.\n",
        "\n",
        "Ques 8. What is a hash table, and how does it relate to dictionaries in Python\n",
        "\n",
        "        - A hash table (also known as a hash map or dictionary) is a data\n",
        "        structure that implements an associative array, which is a collection\n",
        "        of key-value pairs. It allows for efficient storage and retrieval of\n",
        "        data using a hash function\n",
        "\n",
        "        How it Relates to Dictionaries in Python:\n",
        "\n",
        "        -Python dictionaries (dict) are implemented using hash tables. When you\n",
        "        create a dictionary and add key-value pairs, Python uses a hash\n",
        "        function to calculate the hash code for each key. This hash code is\n",
        "        then used internally to determine where in memory the key-value pair\n",
        "        will be stored.\n",
        "\n",
        "Ques 9. Can lists contain different data types in Python\n",
        "\n",
        "      -Yes, Python allows lists to store multiple data types within a single list.\n",
        "\n",
        "Ques 10. Explain why strings are immutable in Python\n",
        "         \n",
        "         -Strings in Python are immutable because:\n",
        "\n",
        "         They are stored efficiently in memory (reducing overhead).\n",
        "         They prevent accidental modification of data.\n",
        "         They enable safe usage in dictionaries and sets (because they can be\n",
        "         hashed).\n",
        "\n",
        "Ques 11. What advantages do dictionaries offer over lists for certain tasks\n",
        "         \n",
        "         -1. Faster Lookups (O(1) vs. O(n))\n",
        "             Dictionaries use a hash table to store key-value pairs, so\n",
        "             retrieving a value by key takes constant time (O(1)).\n",
        "             Lists require scanning (O(n)) to find an element.\n",
        "         2. Meaningful Data Storage\n",
        "            Dictionary keys act as labels, making data retrieval intuitive.\n",
        "         3. No Duplicates in Keys\n",
        "            Unlike lists, dictionaries prevent duplicate keys.\n",
        "\n",
        "Ques 12. Describe a scenario where using a tuple would be preferable over a list\n",
        "         \n",
        "         Tuples are preferable when data should not be modified.\n",
        "         Scenario 1: Storing Fixed Coordinates\n",
        "         location = (40.7128, 74.0060)  # New York City latitude & longitude\n",
        "         Coordinates should not change, so a tuple is ideal.\n",
        "         Scenario 2: Dictionary Keys\n",
        "         Tuples can be used as keys in dictionaries, while lists cannot.\n",
        "\n",
        "         locations = {\n",
        "        (40.7128, 74.0060): \"New York\",\n",
        "        (34.0522, -118.2437): \"Los Angeles\"\n",
        "}\n",
        "        Lists cannot be used as dictionary keys since they are mutable.\n",
        "\n",
        "Ques 13.  How do sets handle duplicate values in Python\n",
        "          \n",
        "          -Sets automatically remove duplicates when elements are added.\n",
        "\n",
        "Ques 14. How does the “in” keyword work differently for lists and dictionaries\n",
        "         For Lists (O(n))\n",
        "        \n",
        "        The in operator checks every element in the list, making it slow (O(n)).\n",
        "        nums = [10, 20, 30, 40]\n",
        "        print(20 in nums)  # True (searches through the list)\n",
        "        For Dictionaries (O(1))\n",
        "        The in operator checks only keys, making lookups fast (O(1)).\n",
        "        my_dict = {\"name\": \"Alice\", \"age\": 25}\n",
        "        print(\"name\" in my_dict)  # True (direct hash table lookup)\n",
        "        Important: in checks keys, not values.\n",
        "        print(\"Alice\" in my_dict)  # False\n",
        "\n",
        "Ques 15. Can you modify the elements of a tuple? Explain why or why not\n",
        "       \n",
        "        - No, tuples are immutable, meaning elements cannot be changed after\n",
        "          creation.\n",
        "\n",
        "          Example:\n",
        "          my_tuple = (1, 2, 3)\n",
        "          my_tuple[1] = 5  # TypeError: 'tuple' object does not support item assignment\n",
        "          Why?\n",
        "          Prevents accidental modifications\n",
        "          Optimized for speed and memory usage\n",
        "          Allows safe use as dictionary keys\n",
        "          However, if a tuple contains mutable elements, those can be modified:\n",
        "\n",
        "          nested_tuple = ([1, 2, 3], \"fixed\")\n",
        "          nested_tuple[0].append(4)  # Works, modifies list inside tuple\n",
        "          print(nested_tuple)  # ([1, 2, 3, 4], 'fixed')\n",
        "\n",
        "Ques 16. What is a nested dictionary, and give an example of its use case\n",
        "         \n",
        "        A nested dictionary is a dictionary inside another dictionary. It’s\n",
        "        useful for storing hierarchical data.\n",
        "\n",
        "        Example: Storing Student Records\n",
        "        students = {\n",
        "       \"Alice\": {\"age\": 22, \"grade\": \"A\"},\n",
        "       \"Bob\": {\"age\": 24, \"grade\": \"B\"}\n",
        "}\n",
        "print(students[\"Alice\"][\"age\"])  # Output: 22\n",
        "\n",
        "Ques 17. Describe the time complexity of accessing elements in a dictionary\n",
        "        \n",
        "         Average case: O(1) (constant time lookup using a hash function)\n",
        "         Worst case: O(n) (rare cases when hash collisions occur)\n",
        "         Example:\n",
        "         my_dict = {\"a\": 10, \"b\": 20, \"c\": 30}\n",
        "         print(my_dict[\"b\"])  # O(1) lookup\n",
        "\n",
        "Ques 18. In what situations are lists preferred over dictionaries\n",
        "         \n",
        "         Before Python 3.7, dictionaries did not maintain order because they\n",
        "         were implemented as hash tables.\n",
        "\n",
        "         Effect:\n",
        "         Unordered retrieval: Elements could appear in any sequence.\n",
        "        Fast lookups: No need for sequential scanning like lists.\n",
        "\n",
        "Ques 19. Why are dictionaries considered unordered, and how does that affect   \n",
        "data retrieval\n",
        "\n",
        "      Before Python 3.7, dictionaries did not maintain order because they were\n",
        "      implemented as hash tables.\n",
        "\n",
        "      Effect:\n",
        "      Unordered retrieval: Elements could appear in any sequence.\n",
        "      Fast lookups: No need for sequential scanning like lists.\n",
        "      Example:\n",
        "      d = {\"z\": 1, \"x\": 2, \"y\": 3}\n",
        "      print(d)  # Before Python 3.7, order was unpredictable\n",
        "      From Python 3.7+, dictionaries preserve insertion order.\n",
        "\n",
        "Ques 20. Explain the difference between a list and a dictionary in terms of data retrieval.  \n",
        "\n",
        "     List\n",
        "     By numerical index (0, 1, 2...)\n",
        "     O(1) by index, O(n) by value search\n",
        "     Ordered(maintains insertion order)\n",
        "    \n",
        "     Dictionary\n",
        "\n",
        "     By unique key (string, number, tuple)\n",
        "     O(1) by key (average)\n",
        "     Ordered (since Python 3.7, maintains insertion order)\n"
      ],
      "metadata": {
        "id": "bfO8hPkMn6Wz"
      }
    },
    {
      "cell_type": "markdown",
      "source": [
        "Practical Questions\n"
      ],
      "metadata": {
        "id": "wXRkSP1_ttCo"
      }
    },
    {
      "cell_type": "code",
      "source": [
        "#Ques 1.Write a code to create a string with your name and print it\n",
        "string = \"My name is Shraddha\"\n",
        "length = len(string)\n",
        "print(length)"
      ],
      "metadata": {
        "colab": {
          "base_uri": "https://localhost:8080/"
        },
        "outputId": "37cf08be-e63d-45ba-a8f6-cd0aa901498a",
        "id": "3BjqvJRnnrEL"
      },
      "execution_count": null,
      "outputs": [
        {
          "output_type": "stream",
          "name": "stdout",
          "text": [
            "19\n"
          ]
        }
      ]
    },
    {
      "cell_type": "code",
      "source": [
        "#Ques 2.Write a code to find the length of the string \"Hello World\"\n",
        "string = \"hello world\"\n",
        "length = len(string)\n",
        "print(length)"
      ],
      "metadata": {
        "colab": {
          "base_uri": "https://localhost:8080/"
        },
        "id": "H0IafgAeuev2",
        "outputId": "0f582627-0aa1-4292-fc8f-e833903e0abd"
      },
      "execution_count": null,
      "outputs": [
        {
          "output_type": "stream",
          "name": "stdout",
          "text": [
            "11\n"
          ]
        }
      ]
    },
    {
      "cell_type": "code",
      "source": [
        "#Ques 3.Write a code to slice the first 3 characters from the string \"Python Programming\"P\n",
        "string = \"Python Programming\"\n",
        "sliced_string = string[:3]\n",
        "print(sliced_string)"
      ],
      "metadata": {
        "colab": {
          "base_uri": "https://localhost:8080/"
        },
        "id": "1ykxuBqDu2SS",
        "outputId": "75269d03-9098-4bff-c2c1-5fb88eb5df26"
      },
      "execution_count": null,
      "outputs": [
        {
          "output_type": "stream",
          "name": "stdout",
          "text": [
            "Pyt\n"
          ]
        }
      ]
    },
    {
      "cell_type": "code",
      "source": [
        " #Ques 4.Write a code to convert the string \"hello\" to uppercase\n",
        " string = \"hello\"\n",
        "uppercase_string = string.upper()\n",
        "print(uppercase_string) # Output: HELLO"
      ],
      "metadata": {
        "colab": {
          "base_uri": "https://localhost:8080/"
        },
        "id": "MHRAr1fnwCh6",
        "outputId": "0c022d7c-dd8e-4e19-99d3-04c6d8a61b1b"
      },
      "execution_count": null,
      "outputs": [
        {
          "output_type": "stream",
          "name": "stdout",
          "text": [
            "HELLO\n"
          ]
        }
      ]
    },
    {
      "cell_type": "code",
      "source": [
        "string = \"Shraddha\"\n",
        "uppercase_string = string.upper()\n",
        "print(uppercase_string)"
      ],
      "metadata": {
        "colab": {
          "base_uri": "https://localhost:8080/"
        },
        "id": "lm16UFPnwW-j",
        "outputId": "1b5c6cd9-0d84-451b-ce60-61b42b71c027"
      },
      "execution_count": null,
      "outputs": [
        {
          "output_type": "stream",
          "name": "stdout",
          "text": [
            "SHRADDHA\n"
          ]
        }
      ]
    },
    {
      "cell_type": "code",
      "source": [
        "#Ques 5.Write a code to replace the word \"apple\" with \"orange\" in the string \"I like apple\"P\n",
        "s = \"I Like Apple\"\n",
        "\n",
        "# Replace \"Apple\" with \"Orange\"\n",
        "s1 = s.replace(\"Apple\", \"Orange\")\n",
        "\n",
        "print(s1)"
      ],
      "metadata": {
        "colab": {
          "base_uri": "https://localhost:8080/"
        },
        "id": "2QciQ2RHwzsa",
        "outputId": "74226c5e-d31a-41ef-fe70-009231bb7505"
      },
      "execution_count": null,
      "outputs": [
        {
          "output_type": "stream",
          "name": "stdout",
          "text": [
            "I Like Orange\n"
          ]
        }
      ]
    },
    {
      "cell_type": "code",
      "source": [
        "#Ques 6.Write a code to create a list with numbers 1 to 5 and print it.\n",
        "numbers = [1, 2, 3, 4, 5]\n",
        "\n",
        "# Printing the list\n",
        "print(numbers)"
      ],
      "metadata": {
        "id": "gu6togLMyODa",
        "colab": {
          "base_uri": "https://localhost:8080/"
        },
        "outputId": "9320de91-db36-406a-a7d4-9e37b4d98cdd"
      },
      "execution_count": null,
      "outputs": [
        {
          "output_type": "stream",
          "name": "stdout",
          "text": [
            "[1, 2, 3, 4, 5]\n"
          ]
        }
      ]
    },
    {
      "cell_type": "code",
      "source": [
        "#Ques 7.Write a code to append the number 10 to the list [1, 2, 3, 4]\n",
        "# Define the list 'a'\n",
        "a = [1, 2, 3, 4]\n",
        "# Append \"10\" to the list\n",
        "a.append(10)"
      ],
      "metadata": {
        "id": "c03yUpzAuoqj"
      },
      "execution_count": null,
      "outputs": []
    },
    {
      "cell_type": "code",
      "source": [
        "a"
      ],
      "metadata": {
        "colab": {
          "base_uri": "https://localhost:8080/"
        },
        "id": "H3_T-vpcvoE0",
        "outputId": "bec9af6d-e2bf-4f2e-b71d-ac08a27e8262"
      },
      "execution_count": null,
      "outputs": [
        {
          "output_type": "execute_result",
          "data": {
            "text/plain": [
              "[1, 2, 3, 4, 10]"
            ]
          },
          "metadata": {},
          "execution_count": 12
        }
      ]
    },
    {
      "cell_type": "code",
      "source": [
        "#Ques 8.Write a code to remove the number 3 from the list [1, 2, 3, 4, 5]P\n",
        "a.remove(3)"
      ],
      "metadata": {
        "id": "t2hOb32gvpB-"
      },
      "execution_count": null,
      "outputs": []
    },
    {
      "cell_type": "code",
      "source": [
        "a"
      ],
      "metadata": {
        "colab": {
          "base_uri": "https://localhost:8080/"
        },
        "id": "JrG7wJhoxBe5",
        "outputId": "153a94b9-d21c-4178-ccd0-e3bb72957886"
      },
      "execution_count": null,
      "outputs": [
        {
          "output_type": "execute_result",
          "data": {
            "text/plain": [
              "[1, 2, 4, 10]"
            ]
          },
          "metadata": {},
          "execution_count": 15
        }
      ]
    },
    {
      "cell_type": "code",
      "source": [
        "#Ques 9.Write a code to access the second element in the list ['a', 'b', 'c', 'd']\n",
        "a = ['a', 'b', 'c', 'd']\n",
        "second_element = a[1]\n",
        "print(second_element)\n"
      ],
      "metadata": {
        "colab": {
          "base_uri": "https://localhost:8080/"
        },
        "id": "Dokj7mduxKmP",
        "outputId": "57ce3a8a-66d4-40f6-9d38-573aa9504ea4"
      },
      "execution_count": null,
      "outputs": [
        {
          "output_type": "stream",
          "name": "stdout",
          "text": [
            "b\n"
          ]
        }
      ]
    },
    {
      "cell_type": "code",
      "source": [
        "#Ques 10.Write a code to reverse the list [10, 20, 30, 40, 50]\n",
        "# Defining the list\n",
        "numbers = [10, 20, 30, 40, 50]\n",
        "\n",
        "# Reversing the list\n",
        "numbers.reverse()\n",
        "\n",
        "# Printing the reversed list\n",
        "print(numbers)"
      ],
      "metadata": {
        "colab": {
          "base_uri": "https://localhost:8080/"
        },
        "id": "rHC_I1bPxeMa",
        "outputId": "f8117060-c009-4a2a-e4a4-2c4ac90dbe94"
      },
      "execution_count": null,
      "outputs": [
        {
          "output_type": "stream",
          "name": "stdout",
          "text": [
            "[50, 40, 30, 20, 10]\n"
          ]
        }
      ]
    },
    {
      "cell_type": "code",
      "source": [
        "#Ques 11.Write a code to create a tuple with the elements 100, 200, 300 and print it.\n",
        "# Create a tuple\n",
        "my_tuple = (100, 200, 300)\n",
        "\n",
        "# Print the tuple\n",
        "print(my_tuple)"
      ],
      "metadata": {
        "colab": {
          "base_uri": "https://localhost:8080/"
        },
        "id": "ooMQe_eCzWzk",
        "outputId": "0daa3692-7b21-4081-b950-db5b651f6d3a"
      },
      "execution_count": null,
      "outputs": [
        {
          "output_type": "stream",
          "name": "stdout",
          "text": [
            "(100, 200, 300)\n"
          ]
        }
      ]
    },
    {
      "cell_type": "code",
      "source": [
        "#Ques 12.Write a code to access the second-to-last element of the tuple ('red', 'green', 'blue', 'yellow').\n",
        "# Defining the tuple\n",
        "colors = ('red', 'green', 'blue', 'yellow')\n",
        "\n",
        "# Accessing the second-to-last element\n",
        "second_last_element = colors[-2]\n",
        "\n",
        "# Printing the result\n",
        "print(second_last_element)"
      ],
      "metadata": {
        "colab": {
          "base_uri": "https://localhost:8080/"
        },
        "id": "DQfnjFem0Jo-",
        "outputId": "ead30653-58d0-42b9-e689-3ab66f5a3785"
      },
      "execution_count": null,
      "outputs": [
        {
          "output_type": "stream",
          "name": "stdout",
          "text": [
            "blue\n"
          ]
        }
      ]
    },
    {
      "cell_type": "code",
      "source": [
        "#Ques 13.Write a code to find the minimum number in the tuple (10, 20, 5, 15).\n",
        "\n",
        "numbers = (10, 20, 5, 15)\n",
        "\n",
        "# Finding the minimum number\n",
        "min_number = min(numbers)\n",
        "\n",
        "print(min_number)"
      ],
      "metadata": {
        "colab": {
          "base_uri": "https://localhost:8080/"
        },
        "id": "SrLgEQkI1KL9",
        "outputId": "034b8a48-4d2b-478c-d14b-e2ee4318bcca"
      },
      "execution_count": null,
      "outputs": [
        {
          "output_type": "stream",
          "name": "stdout",
          "text": [
            "5\n"
          ]
        }
      ]
    },
    {
      "cell_type": "code",
      "metadata": {
        "colab": {
          "base_uri": "https://localhost:8080/"
        },
        "id": "1a27cfac",
        "outputId": "2d5e0150-6f3d-4c2d-92ef-c0cf037a162c"
      },
      "source": [
        "#Ques 14.Write a code to find the index of the element \"cat\" in the tuple ('dog', 'cat', 'rabbit').\n",
        "\n",
        "# Define the tuple\n",
        "my_tuple = ('dog', 'cat', 'rabbit')\n",
        "\n",
        "# Find the index of \"cat\"\n",
        "index = my_tuple.index(\"cat\")\n",
        "\n",
        "# Print the index\n",
        "print(index)"
      ],
      "execution_count": null,
      "outputs": [
        {
          "output_type": "stream",
          "name": "stdout",
          "text": [
            "1\n"
          ]
        }
      ]
    },
    {
      "cell_type": "code",
      "metadata": {
        "colab": {
          "base_uri": "https://localhost:8080/"
        },
        "id": "7219b902",
        "outputId": "c51515fb-17ca-43af-dc68-f33c4f159b66"
      },
      "source": [
        "#Ques 15.Write a code to create a tuple containing three different fruits and check if \"kiwi\" is in it.\n",
        "\n",
        "# Create a tuple of fruits\n",
        "fruits = (\"apple\", \"banana\", \"orange\")\n",
        "\n",
        "# Check if \"kiwi\" is in the tuple\n",
        "if \"kiwi\" in fruits:\n",
        "  print(\"Kiwi is in the tuple.\")\n",
        "else:\n",
        "  print(\"Kiwi is not in the tuple.\")"
      ],
      "execution_count": null,
      "outputs": [
        {
          "output_type": "stream",
          "name": "stdout",
          "text": [
            "Kiwi is not in the tuple.\n"
          ]
        }
      ]
    },
    {
      "cell_type": "code",
      "source": [
        " #Ques 16.Write a code to create a set with the elements 'a', 'b', 'c' and print it\n",
        " # Creating a set with elements 'a', 'b', 'c'\n",
        "my_set = {'a', 'b', 'c'}\n",
        "\n",
        "print(my_set)"
      ],
      "metadata": {
        "id": "xdREuD4o6cmf",
        "colab": {
          "base_uri": "https://localhost:8080/"
        },
        "outputId": "3f31a274-3a6d-4498-ba53-f3be65d0a5f9"
      },
      "execution_count": 2,
      "outputs": [
        {
          "output_type": "stream",
          "name": "stdout",
          "text": [
            "{'b', 'c', 'a'}\n"
          ]
        }
      ]
    },
    {
      "cell_type": "code",
      "source": [
        " #Ques 17.Write a code to clear all elements from the set {1, 2, 3, 4, 5}.\n",
        " # Creating a set with elements {1, 2, 3, 4, 5}\n",
        "my_set = {1, 2, 3, 4, 5}\n",
        "\n",
        "my_set.clear()\n",
        "\n",
        "print(my_set)"
      ],
      "metadata": {
        "colab": {
          "base_uri": "https://localhost:8080/"
        },
        "id": "bwlqaQtTgHao",
        "outputId": "19de7475-d211-4a61-a907-cf6666d66fc4"
      },
      "execution_count": 3,
      "outputs": [
        {
          "output_type": "stream",
          "name": "stdout",
          "text": [
            "set()\n"
          ]
        }
      ]
    },
    {
      "cell_type": "code",
      "source": [
        "#Ques 18.Write a code to remove the element 4 from the set {1, 2, 3, 4}\n",
        "# Creating a set with elements {1, 2, 3, 4}\n",
        "my_set = {1, 2, 3, 4}\n",
        "\n",
        "my_set.remove(4)\n",
        "\n",
        "print(my_set)"
      ],
      "metadata": {
        "colab": {
          "base_uri": "https://localhost:8080/"
        },
        "id": "TfhdYN-iggAv",
        "outputId": "7277e8bd-1a8b-4066-8607-af1e81e044d2"
      },
      "execution_count": 4,
      "outputs": [
        {
          "output_type": "stream",
          "name": "stdout",
          "text": [
            "{1, 2, 3}\n"
          ]
        }
      ]
    },
    {
      "cell_type": "code",
      "source": [
        " #Ques 19.Write a code to find the union of two sets {1, 2, 3} and {3, 4, 5}.\n",
        " # Creating two sets\n",
        "set1 = {1, 2, 3}\n",
        "set2 = {3, 4, 5}\n",
        "union_set = set1.union(set2)\n",
        "\n",
        "print(union_set)"
      ],
      "metadata": {
        "colab": {
          "base_uri": "https://localhost:8080/"
        },
        "id": "M-fUnVLqhbQj",
        "outputId": "6918dfd6-7772-452a-c49b-ce30c9da3f14"
      },
      "execution_count": 6,
      "outputs": [
        {
          "output_type": "stream",
          "name": "stdout",
          "text": [
            "{1, 2, 3, 4, 5}\n"
          ]
        }
      ]
    },
    {
      "cell_type": "code",
      "source": [
        " #Ques 20.Write a code to find the intersection of two sets {1, 2, 3} and {2, 3, 4}\n",
        " # Creating two sets\n",
        "set1 = {1, 2, 3}\n",
        "set2 = {2, 3, 4}\n",
        "\n",
        "intersection_set = set1.intersection(set2)\n",
        "\n",
        "print(intersection_set)"
      ],
      "metadata": {
        "id": "I0pdEBiQlcnj"
      },
      "execution_count": null,
      "outputs": []
    },
    {
      "cell_type": "code",
      "metadata": {
        "colab": {
          "base_uri": "https://localhost:8080/"
        },
        "id": "2f89834e",
        "outputId": "9d05f5d6-7cc9-46ff-c950-87408d170b12"
      },
      "source": [
        "#Ques 21.Write a code to create a dictionary with the keys \"name\", \"age\", and \"city\", and print it\n",
        "\n",
        "# Create a dictionary\n",
        "my_dict = {\"name\": \"Shraddha\", \"age\": \"28\", \"city\": \"Jaipur\"}\n",
        "\n",
        "print(my_dict)"
      ],
      "execution_count": 18,
      "outputs": [
        {
          "output_type": "stream",
          "name": "stdout",
          "text": [
            "{'name': 'Shraddha', 'age': '28', 'city': 'Jaipur'}\n"
          ]
        }
      ]
    },
    {
      "cell_type": "code",
      "metadata": {
        "colab": {
          "base_uri": "https://localhost:8080/"
        },
        "id": "b3860c1b",
        "outputId": "de518204-f9fa-4c81-f75e-811b16c5795c"
      },
      "source": [
        "#Ques 22. Write a code to add a new key-value pair \"country\": \"USA\" to the dictionary {'name': 'John', 'age': 25\n",
        "\n",
        "# Define the initial dictionary\n",
        "my_dict = {'name': 'John', 'age': 25}\n",
        "\n",
        "my_dict[\"country\"] = \"USA\"\n",
        "\n",
        "print(my_dict)"
      ],
      "execution_count": 17,
      "outputs": [
        {
          "output_type": "stream",
          "name": "stdout",
          "text": [
            "{'name': 'John', 'age': 25, 'country': 'USA'}\n"
          ]
        }
      ]
    },
    {
      "cell_type": "code",
      "metadata": {
        "colab": {
          "base_uri": "https://localhost:8080/"
        },
        "id": "064d7b4f",
        "outputId": "ed014d21-99e0-4a69-aaa0-4cdf7a719f1e"
      },
      "source": [
        "#Ques 23.Write a code to access the value associated with the key \"name\" in the dictionary {'name': 'Alice', 'age': 30}\n",
        "\n",
        "# Define the dictionary\n",
        "my_dict = {'name': 'Alice', 'age': 30}\n",
        "\n",
        "name_value = my_dict[\"name\"]\n",
        "\n",
        "print(name_value)"
      ],
      "execution_count": 13,
      "outputs": [
        {
          "output_type": "stream",
          "name": "stdout",
          "text": [
            "Alice\n"
          ]
        }
      ]
    },
    {
      "cell_type": "code",
      "metadata": {
        "colab": {
          "base_uri": "https://localhost:8080/"
        },
        "id": "acc15659",
        "outputId": "03052d04-af9e-40d6-d5f6-7f50757f4c24"
      },
      "source": [
        "#Ques 24.Write a code to remove the key \"age\" from the dictionary {'name': 'Bob', 'age': 22, 'city': 'New York'}\n",
        "\n",
        "# Define the dictionary\n",
        "my_dict = {'name': 'Bob', 'age': 22, 'city': 'New York'}\n",
        "\n",
        "del my_dict[\"age\"]\n",
        "\n",
        "print(my_dict)"
      ],
      "execution_count": 16,
      "outputs": [
        {
          "output_type": "stream",
          "name": "stdout",
          "text": [
            "{'name': 'Bob', 'city': 'New York'}\n"
          ]
        }
      ]
    },
    {
      "cell_type": "code",
      "metadata": {
        "colab": {
          "base_uri": "https://localhost:8080/"
        },
        "id": "52b07cbd",
        "outputId": "f0ce00e7-1226-4114-dc40-05b1a5b888d0"
      },
      "source": [
        "#Ques 25.Write a code to check if the key \"city\" exists in the dictionary {'name': 'Alice', 'city': 'Paris'}\n",
        "\n",
        "# Define the dictionary\n",
        "my_dict = {'name': 'Alice', 'city': 'Paris'}\n",
        "\n",
        "# Check if the key \"city\" exists in the dictionary\n",
        "if \"city\" in my_dict:\n",
        "  print(\"The key 'city' exists in the dictionary.\")\n",
        "else:\n",
        "  print(\"The key 'city' does not exist in the dictionary.\")"
      ],
      "execution_count": 19,
      "outputs": [
        {
          "output_type": "stream",
          "name": "stdout",
          "text": [
            "The key 'city' exists in the dictionary.\n"
          ]
        }
      ]
    },
    {
      "cell_type": "code",
      "metadata": {
        "colab": {
          "base_uri": "https://localhost:8080/"
        },
        "id": "b2b97443",
        "outputId": "de98e751-2595-4acd-ee39-530c62fb2bd2"
      },
      "source": [
        "# You can also use the `in` operator directly in a boolean context\n",
        "print(\"city\" in my_dict)"
      ],
      "execution_count": 20,
      "outputs": [
        {
          "output_type": "stream",
          "name": "stdout",
          "text": [
            "True\n"
          ]
        }
      ]
    },
    {
      "cell_type": "code",
      "metadata": {
        "colab": {
          "base_uri": "https://localhost:8080/"
        },
        "id": "7b85027f",
        "outputId": "ec5e1dc8-1084-44ec-db21-b74e2f7d8e39"
      },
      "source": [
        "#Ques 26.Write a code to create a list, a tuple, and a dictionary, and print them all.\n",
        "\n",
        "# Create a list\n",
        "my_list = [1, 2, 3, 4]\n",
        "\n",
        "# Create a tuple\n",
        "my_tuple = (10, 20, 30)\n",
        "\n",
        "# Create a dictionary\n",
        "my_dict = {\"name\": \"Alice\", \"age\": 30}\n",
        "\n",
        "# Print them all\n",
        "print(\"List:\", my_list)\n",
        "print(\"Tuple:\", my_tuple)\n",
        "print(\"Dictionary:\", my_dict)"
      ],
      "execution_count": 22,
      "outputs": [
        {
          "output_type": "stream",
          "name": "stdout",
          "text": [
            "List: [1, 2, 3, 4]\n",
            "Tuple: (10, 20, 30)\n",
            "Dictionary: {'name': 'Alice', 'age': 30}\n"
          ]
        }
      ]
    },
    {
      "cell_type": "code",
      "source": [],
      "metadata": {
        "id": "IloRAFLZu1yE"
      },
      "execution_count": null,
      "outputs": []
    },
    {
      "cell_type": "code",
      "metadata": {
        "colab": {
          "base_uri": "https://localhost:8080/"
        },
        "id": "e2d3c51c",
        "outputId": "c4953cbc-d282-4db9-aa94-62acc133f653"
      },
      "source": [
        "#Ques 27.Write a code to create a list of 5 random numbers between 1 and 100, sort it in ascending order, and print the result.(replaced)\n",
        "import random\n",
        "\n",
        "# Create a list of 5 random numbers between 1 and 100\n",
        "random_numbers = [random.randint(1, 100) for _ in range(5)]\n",
        "\n",
        "# Sort the list in ascending order\n",
        "random_numbers.sort()\n",
        "\n",
        "# Print the sorted list\n",
        "print(random_numbers)"
      ],
      "execution_count": 24,
      "outputs": [
        {
          "output_type": "stream",
          "name": "stdout",
          "text": [
            "[7, 19, 58, 71, 83]\n"
          ]
        }
      ]
    },
    {
      "cell_type": "code",
      "metadata": {
        "colab": {
          "base_uri": "https://localhost:8080/"
        },
        "id": "e28a81e4",
        "outputId": "a3410949-9311-4d44-a505-bb04f47a3b91"
      },
      "source": [
        "#Ques 28.Write a code to create a list with strings and print the element at the third index\n",
        "\n",
        "# Create a list of strings\n",
        "my_list = [\"apple\", \"banana\", \"cherry\", \"date\", \"elderberry\"]\n",
        "\n",
        "print(my_list[3])"
      ],
      "execution_count": 27,
      "outputs": [
        {
          "output_type": "stream",
          "name": "stdout",
          "text": [
            "date\n"
          ]
        }
      ]
    },
    {
      "cell_type": "code",
      "metadata": {
        "colab": {
          "base_uri": "https://localhost:8080/"
        },
        "id": "c221a364",
        "outputId": "ddd03e3e-8e72-4659-9111-196501a01aae"
      },
      "source": [
        "#Ques 29.Write a code to combine two dictionaries into one and print the result\n",
        "\n",
        "# Define two dictionaries\n",
        "dict1 = {'a': 1, 'b': 2}\n",
        "dict2 = {'c': 3, 'd': 4}\n",
        "\n",
        "# Combine the dictionaries (using the update() method)\n",
        "combined_dict = dict1.copy()\n",
        "combined_dict.update(dict2)\n",
        "\n",
        "print(combined_dict)"
      ],
      "execution_count": 33,
      "outputs": [
        {
          "output_type": "stream",
          "name": "stdout",
          "text": [
            "{'a': 1, 'b': 2, 'c': 3, 'd': 4}\n"
          ]
        }
      ]
    },
    {
      "cell_type": "code",
      "metadata": {
        "colab": {
          "base_uri": "https://localhost:8080/"
        },
        "id": "ce435289",
        "outputId": "f028caf1-1ba7-4e60-d500-9d7863981603"
      },
      "source": [
        "#Ques 30.Write a code to convert a list of strings into a set.\n",
        "\n",
        "# Create a list of strings\n",
        "my_list = [\"apple\", \"banana\", \"cherry\", \"apple\", \"date\"]\n",
        "my_set = set(my_list)\n",
        "\n",
        "\n",
        "print(my_set)"
      ],
      "execution_count": 36,
      "outputs": [
        {
          "output_type": "stream",
          "name": "stdout",
          "text": [
            "{'date', 'apple', 'cherry', 'banana'}\n"
          ]
        }
      ]
    },
    {
      "cell_type": "code",
      "source": [],
      "metadata": {
        "id": "50i6WixlwzZh"
      },
      "execution_count": null,
      "outputs": []
    }
  ]
}